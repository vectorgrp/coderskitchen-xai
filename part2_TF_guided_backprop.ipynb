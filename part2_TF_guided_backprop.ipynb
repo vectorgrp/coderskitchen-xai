{
 "cells": [
  {
   "cell_type": "markdown",
   "metadata": {},
   "source": [
    "Copyright 2021 Vector Informatik GmbH\n",
    "SPDX-License-Identifier: MIT \n",
    "Contact: khanlian.chung@vector.com"
   ]
  },
  {
   "cell_type": "markdown",
   "metadata": {},
   "source": [
    "# Notebook for exploring and playing with saliency maps and backprop"
   ]
  },
  {
   "cell_type": "code",
   "execution_count": null,
   "metadata": {},
   "outputs": [],
   "source": [
    "import tensorflow as tf\n",
    "import numpy as np\n",
    "import matplotlib.pyplot as plt"
   ]
  },
  {
   "cell_type": "markdown",
   "metadata": {},
   "source": [
    "## A few helper functions to load an arbitrary image and generate a simple grey-value heatmap"
   ]
  },
  {
   "cell_type": "markdown",
   "metadata": {},
   "source": [
    "Some helper function to pre and post processing the inputs."
   ]
  },
  {
   "cell_type": "code",
   "execution_count": null,
   "metadata": {},
   "outputs": [],
   "source": [
    "def prep_input(path):\n",
    "    image = tf.image.decode_png(tf.io.read_file(path))\n",
    "    image = tf.expand_dims(image, axis=0)\n",
    "    image = tf.cast(image, tf.float32)\n",
    "    image = tf.image.resize(image, [224,224])\n",
    "    return image\n",
    "\n",
    "def norm_flat_image(img):\n",
    "    grads_norm = img[:,:,0]+ img[:,:,1]+ img[:,:,2]\n",
    "    grads_norm = (grads_norm - tf.reduce_min(grads_norm))/ (tf.reduce_max(grads_norm)- tf.reduce_min(grads_norm))\n",
    "    return grads_norm\n",
    "    \n",
    "def get_lion():\n",
    "    # Wikipedia lion image https://en.wikipedia.org/wiki/Lion#/media/File:Lion_waiting_in_Namibia.jpg\n",
    "    # License: CC BY 2.0 https://creativecommons.org/licenses/by/2.0/deed.en\n",
    "    import urllib.request\n",
    "    filename = 'lion.jpg'\n",
    "    img_url = r\"https://upload.wikimedia.org/wikipedia/commons/7/73/Lion_waiting_in_Namibia.jpg\"\n",
    "    urllib.request.urlretrieve(img_url, filename)\n",
    "\n",
    "def plot_maps(img1, img2,vmin=0.3,vmax=0.7, mix_val=2):\n",
    "    f = plt.figure(figsize=(45,15))\n",
    "    plt.subplot(1,3,1)\n",
    "    plt.imshow(img1,vmin=vmin, vmax=vmax, cmap=\"gray\")\n",
    "    plt.axis(\"off\")\n",
    "    plt.subplot(1,3,2)\n",
    "    plt.imshow(img2, cmap = \"gray\")\n",
    "    plt.axis(\"off\")\n",
    "    plt.subplot(1,3,3)\n",
    "    plt.imshow(img1*mix_val+img2/mix_val, cmap = \"gray\" )\n",
    "    plt.axis(\"off\")\n",
    "    plt.show()"
   ]
  },
  {
   "cell_type": "markdown",
   "metadata": {},
   "source": [
    "This example is built upon a DenseNet201. But you can interchange it any other network. Simpliest way would be: change tf.keras.applications.densenet.DenseNet201() to another network such as tf.keras.applications.resnet.ResNet50(). Don't forget to change the preprocess_input accordingly. If you are interested in the imagenet data, have a look here: https://knowyourdata-tfds.withgoogle.com/#tab=STATS&dataset=imagenet2012\n"
   ]
  },
  {
   "cell_type": "code",
   "execution_count": null,
   "metadata": {},
   "outputs": [],
   "source": [
    "test_model = tf.keras.applications.densenet.DenseNet201()\n",
    "#test_model.summary()\n",
    "get_lion()\n",
    "img_path = \"lion.jpg\"\n",
    "input_img = prep_input(img_path)\n",
    "input_img = tf.keras.applications.densenet.preprocess_input(input_img)\n",
    "plt.imshow(norm_flat_image(input_img[0]), cmap = \"gray\")\n"
   ]
  },
  {
   "cell_type": "code",
   "execution_count": null,
   "metadata": {},
   "outputs": [],
   "source": [
    "result = test_model(input_img)\n",
    "max_idx = tf.argmax(result,axis = 1)\n",
    "tf.keras.applications.imagenet_utils.decode_predictions(result.numpy())\n"
   ]
  },
  {
   "cell_type": "markdown",
   "metadata": {},
   "source": [
    "## Guided Backprop:\n",
    "First, we define our own custom ReLU function"
   ]
  },
  {
   "cell_type": "code",
   "execution_count": null,
   "metadata": {},
   "outputs": [],
   "source": [
    "@tf.custom_gradient\n",
    "def guidedRelu(x):\n",
    "    def grad(dy):\n",
    "        return tf.cast(dy>0,tf.float32)  * tf.cast(x>0,tf.float32) * dy\n",
    "    return tf.nn.relu(x), grad"
   ]
  },
  {
   "cell_type": "markdown",
   "metadata": {},
   "source": [
    "Afterwards, we substitute all old, original ReLU functions with our own versions."
   ]
  },
  {
   "cell_type": "code",
   "execution_count": null,
   "metadata": {},
   "outputs": [],
   "source": [
    "layer_dict = [layer for layer in test_model.layers[1:] if hasattr(layer,'activation')]\n",
    "for layer in layer_dict:\n",
    "    if layer.activation == tf.keras.activations.relu:\n",
    "        layer.activation = guidedRelu\n",
    "        print(\"changed\")\n"
   ]
  },
  {
   "cell_type": "markdown",
   "metadata": {},
   "source": [
    "After setting everything up, we have to explicitly instruct TF to calculate and keep the gradients for the input image input_img."
   ]
  },
  {
   "cell_type": "code",
   "execution_count": null,
   "metadata": {},
   "outputs": [],
   "source": [
    "with tf.GradientTape() as tape:\n",
    "    tape.watch(input_img)\n",
    "    result = test_model(input_img)\n",
    "    max_score = result[0,max_idx[0]]\n",
    "grads = tape.gradient(max_score, input_img)"
   ]
  },
  {
   "cell_type": "code",
   "execution_count": null,
   "metadata": {},
   "outputs": [],
   "source": [
    "plot_maps(norm_flat_image(grads[0]), norm_flat_image(input_img[0]))\n"
   ]
  },
  {
   "cell_type": "markdown",
   "metadata": {},
   "source": [
    "## If you want to play around with different image windows, you can use napari"
   ]
  },
  {
   "cell_type": "code",
   "execution_count": null,
   "metadata": {},
   "outputs": [],
   "source": [
    "import napari\n",
    "viewer = napari.view_image(norm_flat_image(grads[0]).numpy())\n",
    "viewer.add_image(norm_flat_image(input_img[0]).numpy())\n"
   ]
  },
  {
   "cell_type": "code",
   "execution_count": null,
   "metadata": {},
   "outputs": [],
   "source": []
  }
 ],
 "metadata": {
  "interpreter": {
   "hash": "45ff46fca10addfa75fca734b4994d002a1f36f7c35cb451d1a02ba85a2ca87b"
  },
  "kernelspec": {
   "display_name": "Python 3.9.9 64-bit ('venv': venv)",
   "name": "python3"
  },
  "language_info": {
   "codemirror_mode": {
    "name": "ipython",
    "version": 3
   },
   "file_extension": ".py",
   "mimetype": "text/x-python",
   "name": "python",
   "nbconvert_exporter": "python",
   "pygments_lexer": "ipython3",
   "version": "3.9.9"
  },
  "orig_nbformat": 4
 },
 "nbformat": 4,
 "nbformat_minor": 2
}
