{
 "cells": [
  {
   "cell_type": "markdown",
   "source": [
    "Copyright 2021 Vector Informatik GmbH\n",
    "SPDX-License-Identifier: MIT \n",
    "Contact: khanlian.chung@vector.com"
   ],
   "metadata": {}
  },
  {
   "cell_type": "markdown",
   "source": [
    "# Notebook for exploring and playing with saliency maps and backprop"
   ],
   "metadata": {}
  },
  {
   "cell_type": "code",
   "execution_count": null,
   "source": [
    "import tensorflow as tf\r\n",
    "import numpy as np\r\n",
    "import matplotlib.pyplot as plt"
   ],
   "outputs": [],
   "metadata": {}
  },
  {
   "cell_type": "markdown",
   "source": [
    "## A few helper functions to load an arbitrary image and generate a simple grey-value heatmap"
   ],
   "metadata": {}
  },
  {
   "cell_type": "markdown",
   "source": [
    "Some helper function to pre and post processing the inputs."
   ],
   "metadata": {}
  },
  {
   "cell_type": "code",
   "execution_count": null,
   "source": [
    "def prep_input(path):\r\n",
    "    image = tf.image.decode_png(tf.io.read_file(path))\r\n",
    "    image = tf.expand_dims(image, axis=0)\r\n",
    "    image = tf.cast(image, tf.float32)\r\n",
    "    image = tf.image.resize(image, [224,224])\r\n",
    "    return image\r\n",
    "\r\n",
    "def norm_flat_image(img):\r\n",
    "    grads_norm = img[:,:,0]+ img[:,:,1]+ img[:,:,2]\r\n",
    "    grads_norm = (grads_norm - tf.reduce_min(grads_norm))/ (tf.reduce_max(grads_norm)- tf.reduce_min(grads_norm))\r\n",
    "    return grads_norm\r\n",
    "    \r\n",
    "def get_lion():\r\n",
    "    # Wikipedia lion image https://en.wikipedia.org/wiki/Lion#/media/File:Lion_waiting_in_Namibia.jpg\r\n",
    "    # License: CC BY 2.0 https://creativecommons.org/licenses/by/2.0/deed.en\r\n",
    "    import urllib.request\r\n",
    "    filename = 'lion.jpg'\r\n",
    "    img_url = r\"https://upload.wikimedia.org/wikipedia/commons/7/73/Lion_waiting_in_Namibia.jpg\"\r\n",
    "    urllib.request.urlretrieve(img_url, filename)\r\n",
    "\r\n",
    "def plot_maps(img1, img2,vmin=0.3,vmax=0.7, mix_val=2):\r\n",
    "    f = plt.figure(figsize=(15,45))\r\n",
    "    plt.subplot(1,3,1)\r\n",
    "    plt.imshow(img1,vmin=vmin, vmax=vmax, cmap=\"gray\")\r\n",
    "    plt.axis(\"off\")\r\n",
    "    plt.subplot(1,3,2)\r\n",
    "    plt.imshow(img2, cmap = \"gray\")\r\n",
    "    plt.axis(\"off\")\r\n",
    "    plt.subplot(1,3,3)\r\n",
    "    plt.imshow(img1*mix_val+img2/mix_val, cmap = \"gray\" )\r\n",
    "    plt.axis(\"off\")"
   ],
   "outputs": [],
   "metadata": {}
  },
  {
   "cell_type": "markdown",
   "source": [
    "This example is built upon a DenseNet201. But you can interchange it any other network. Simpliest way would be: change tf.keras.applications.densenet.DenseNet201() to another network such as tf.keras.applications.resnet.ResNet50(). Don't forget to change the preprocess_input accordingly. If you are interested in the imagenet data, have a look here: https://knowyourdata-tfds.withgoogle.com/#tab=STATS&dataset=imagenet2012\n"
   ],
   "metadata": {}
  },
  {
   "cell_type": "code",
   "execution_count": null,
   "source": [
    "test_model = tf.keras.applications.densenet.DenseNet201()\r\n",
    "#test_model.summary()\r\n",
    "get_lion()\r\n",
    "img_path = \"lion.jpg\"\r\n",
    "input_img = prep_input(img_path)\r\n",
    "input_img = tf.keras.applications.densenet.preprocess_input(input_img)\r\n",
    "plt.imshow(norm_flat_image(input_img[0]), cmap = \"gray\")\r\n"
   ],
   "outputs": [],
   "metadata": {}
  },
  {
   "cell_type": "code",
   "execution_count": null,
   "source": [
    "result = test_model(input_img)\r\n",
    "max_idx = tf.argmax(result,axis = 1)\r\n",
    "tf.keras.applications.imagenet_utils.decode_predictions(result.numpy())\r\n"
   ],
   "outputs": [],
   "metadata": {}
  },
  {
   "cell_type": "markdown",
   "source": [
    "## Guided Backprop:\r\n",
    "First, we define our own custom ReLU function"
   ],
   "metadata": {}
  },
  {
   "cell_type": "code",
   "execution_count": null,
   "source": [
    "@tf.custom_gradient\r\n",
    "def guidedRelu(x):\r\n",
    "    def grad(dy):\r\n",
    "        return tf.cast(dy>0,tf.float32)  * tf.cast(x>0,tf.float32) * dy\r\n",
    "    return tf.nn.relu(x), grad"
   ],
   "outputs": [],
   "metadata": {}
  },
  {
   "cell_type": "markdown",
   "source": [
    "Afterwards, we substitute all old, original ReLU functions with our own versions."
   ],
   "metadata": {}
  },
  {
   "cell_type": "code",
   "execution_count": null,
   "source": [
    "layer_dict = [layer for layer in test_model.layers[1:] if hasattr(layer,'activation')]\r\n",
    "for layer in layer_dict:\r\n",
    "    if layer.activation == tf.keras.activations.relu:\r\n",
    "        layer.activation = guidedRelu\r\n",
    "        print(\"changed\")\r\n"
   ],
   "outputs": [],
   "metadata": {}
  },
  {
   "cell_type": "markdown",
   "source": [
    "After setting everything up, we have to explicitly instruct TF to calculate and keep the gradients for the input image input_img."
   ],
   "metadata": {}
  },
  {
   "cell_type": "code",
   "execution_count": null,
   "source": [
    "with tf.GradientTape() as tape:\r\n",
    "    tape.watch(input_img)\r\n",
    "    result = test_model(input_img)\r\n",
    "    max_score = result[0,max_idx[0]]\r\n",
    "grads = tape.gradient(max_score, input_img)"
   ],
   "outputs": [],
   "metadata": {}
  },
  {
   "cell_type": "code",
   "execution_count": null,
   "source": [
    "plot_maps(norm_flat_image(grads[0]), norm_flat_image(input_img[0]))\r\n"
   ],
   "outputs": [],
   "metadata": {}
  },
  {
   "cell_type": "markdown",
   "source": [
    "## If you want to play around with different image windows, you can use napari"
   ],
   "metadata": {}
  },
  {
   "cell_type": "code",
   "execution_count": null,
   "source": [
    "import napari\r\n",
    "viewer = napari.view_image(norm_flat_image(grads[0]).numpy())\r\n",
    "viewer.add_image(norm_flat_image(input_img[0]).numpy())\r\n"
   ],
   "outputs": [],
   "metadata": {}
  },
  {
   "cell_type": "code",
   "execution_count": null,
   "source": [],
   "outputs": [],
   "metadata": {}
  }
 ],
 "metadata": {
  "interpreter": {
   "hash": "45ff46fca10addfa75fca734b4994d002a1f36f7c35cb451d1a02ba85a2ca87b"
  },
  "kernelspec": {
   "name": "python3",
   "display_name": "Python 3.9.2 64-bit ('venv': venv)"
  },
  "language_info": {
   "name": "python",
   "version": "3.9.9",
   "mimetype": "text/x-python",
   "codemirror_mode": {
    "name": "ipython",
    "version": 3
   },
   "pygments_lexer": "ipython3",
   "nbconvert_exporter": "python",
   "file_extension": ".py"
  },
  "orig_nbformat": 4
 },
 "nbformat": 4,
 "nbformat_minor": 2
}