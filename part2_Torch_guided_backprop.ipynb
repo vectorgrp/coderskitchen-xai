{
 "cells": [
  {
   "cell_type": "markdown",
   "source": [
    "Copyright 2021 Vector Informatik GmbH\r\n",
    "SPDX-License-Identifier: MIT \r\n",
    "Contact: khanlian.chung@vector.com"
   ],
   "metadata": {}
  },
  {
   "cell_type": "markdown",
   "source": [
    "# Notebook for exploring and playing with saliency maps and backprop with Torch"
   ],
   "metadata": {}
  },
  {
   "cell_type": "code",
   "execution_count": null,
   "source": [
    "import torch\r\n",
    "import torchvision\r\n",
    "from PIL import Image\r\n",
    "import numpy as np\r\n",
    "import matplotlib.pyplot as plt"
   ],
   "outputs": [],
   "metadata": {}
  },
  {
   "cell_type": "markdown",
   "source": [
    "## A few helper functions to load an arbitrary image and generate a simple grey-value heatmap\r\n",
    "Some helper function to pre and post processing the inputs."
   ],
   "metadata": {}
  },
  {
   "cell_type": "code",
   "execution_count": null,
   "source": [
    "def prep_input(path):\r\n",
    "    image =Image.open(path)\r\n",
    "\r\n",
    "    preprocess = torchvision.transforms.Compose([\r\n",
    "    torchvision.transforms.Resize(256),\r\n",
    "    torchvision.transforms.CenterCrop(224),\r\n",
    "    torchvision.transforms.ToTensor(),\r\n",
    "    torchvision.transforms.Normalize(mean=[0.485, 0.456, 0.406], std=[0.229, 0.224, 0.225]),])\r\n",
    "\r\n",
    "    image = preprocess(image)\r\n",
    "    image.unsqueeze_(0)\r\n",
    "\r\n",
    "    return image\r\n",
    "\r\n",
    "def decode_output(output):\r\n",
    "    # taken and modified from https://pytorch.org/hub/pytorch_vision_alexnet/\r\n",
    "    import urllib.request\r\n",
    "    url = \"https://raw.githubusercontent.com/pytorch/hub/master/imagenet_classes.txt\"\r\n",
    "    urllib.request.urlretrieve(url, \"imagenet_classes.txt\")\r\n",
    "    # Read the categories\r\n",
    "    probabilities = torch.nn.functional.softmax(output[0], dim=0)\r\n",
    "\r\n",
    "    with open(\"imagenet_classes.txt\", \"r\") as f:\r\n",
    "        categories = [s.strip() for s in f.readlines()]\r\n",
    "    # Show top categories per image\r\n",
    "    top5_prob, top5_catid = torch.topk(probabilities, 5)\r\n",
    "    for i in range(top5_prob.size(0)):\r\n",
    "        print(categories[top5_catid[i]], top5_prob[i].item())\r\n",
    "    return top5_catid[0]\r\n",
    "\r\n",
    "def prep_output(img_tensor):\r\n",
    "    invTrans = torchvision.transforms.Compose([ torchvision.transforms.Normalize(mean = [ 0., 0., 0. ],\r\n",
    "                                                    std = [ 1/0.229, 1/0.224, 1/0.225 ]),\r\n",
    "                            torchvision.transforms.Normalize(mean = [ -0.485, -0.456, -0.406 ],\r\n",
    "                                                    std = [ 1., 1., 1. ]),\r\n",
    "                            ])\r\n",
    "    out = invTrans(img_tensor)[0]\r\n",
    "    out = out.detach().numpy().transpose(1, 2, 0)\r\n",
    "\r\n",
    "\r\n",
    "    return out\r\n",
    "\r\n",
    "def get_lion():\r\n",
    "    # Wikipedia lion image https://en.wikipedia.org/wiki/Lion#/media/File:Lion_waiting_in_Namibia.jpg\r\n",
    "    # License: CC BY 2.0 https://creativecommons.org/licenses/by/2.0/deed.en\r\n",
    "    import urllib.request\r\n",
    "    filename = 'lion.jpg'\r\n",
    "    img_url = r\"https://upload.wikimedia.org/wikipedia/commons/7/73/Lion_waiting_in_Namibia.jpg\"\r\n",
    "    urllib.request.urlretrieve(img_url, filename)\r\n",
    "\r\n",
    "def plot_maps(img1, img2,vmin=0.3,vmax=0.7, mix_val=2):\r\n",
    "    f = plt.figure(figsize=(15,45))\r\n",
    "    plt.subplot(1,3,1)\r\n",
    "    plt.imshow(img1,vmin=vmin, vmax=vmax, cmap=\"gray\")\r\n",
    "    plt.axis(\"off\")\r\n",
    "    plt.subplot(1,3,2)\r\n",
    "    plt.imshow(img2, cmap = \"gray\")\r\n",
    "    plt.axis(\"off\")\r\n",
    "    plt.subplot(1,3,3)\r\n",
    "    plt.imshow(img1*mix_val+img2/mix_val, cmap = \"gray\" )\r\n",
    "    plt.axis(\"off\")\r\n",
    "\r\n",
    "def norm_flat_image(img):\r\n",
    "    grads_norm = prep_output(img)\r\n",
    "    grads_norm = grads_norm[:,:,0]+ grads_norm[:,:,1]+ grads_norm[:,:,2]\r\n",
    "\r\n",
    "    grads_norm = (grads_norm - np.min(grads_norm))/ (np.max(grads_norm)- np.min(grads_norm))\r\n",
    "    return grads_norm\r\n"
   ],
   "outputs": [],
   "metadata": {}
  },
  {
   "cell_type": "markdown",
   "source": [
    "This example is built upon a DenseNet201. But you can interchange it any other network. Simpliest way would be: change torchvision.models.densenet201(True) to another network such as torchvision.models.resnet18(True). Have a look at https://pytorch.org/vision/stable/models.html\r\n",
    "If you are interested in the imagenet data, have a look here: https://knowyourdata-tfds.withgoogle.com/#tab=STATS&dataset=imagenet2012"
   ],
   "metadata": {}
  },
  {
   "cell_type": "code",
   "execution_count": null,
   "source": [
    "test_model = torchvision.models.densenet201(True)\r\n",
    "test_model.eval()\r\n",
    "get_lion()\r\n",
    "input_img = prep_input(\"lion.jpg\")"
   ],
   "outputs": [],
   "metadata": {}
  },
  {
   "cell_type": "markdown",
   "source": [
    "## Guided Backprop:\r\n",
    "First, we have to implement a hook, so we can modify the gradients"
   ],
   "metadata": {}
  },
  {
   "cell_type": "code",
   "execution_count": null,
   "source": [
    "def relu_hook_function(module, grad_in, grad_out):\r\n",
    "    if isinstance(module, torch.nn.ReLU):\r\n",
    "        return (torch.clamp(grad_in[0], min=0.),)"
   ],
   "outputs": [],
   "metadata": {}
  },
  {
   "cell_type": "markdown",
   "source": [
    "Afterwards, we add the hooks to the model."
   ],
   "metadata": {}
  },
  {
   "cell_type": "code",
   "execution_count": null,
   "source": [
    "for i, module in enumerate(test_model.modules()):\r\n",
    "    if isinstance(module, torch.nn.ReLU):\r\n",
    "        print(test_model.named_modules())\r\n",
    "        module.register_backward_hook(relu_hook_function)"
   ],
   "outputs": [],
   "metadata": {}
  },
  {
   "cell_type": "markdown",
   "source": [
    "After setting everything up, we have to explicitly instruct PyTorch to calculate and keep the gradients for the input image input_img. This is managed by the .requires_grad flag. "
   ],
   "metadata": {}
  },
  {
   "cell_type": "code",
   "execution_count": null,
   "source": [
    "input_img.requires_grad = True\r\n",
    "# forward/inference\r\n",
    "out = test_model(input_img)\r\n",
    "best_id = decode_output(out)\r\n",
    "# backprop\r\n",
    "out[0, best_id].backward()\r\n",
    "grads = input_img.grad\r\n"
   ],
   "outputs": [],
   "metadata": {}
  },
  {
   "cell_type": "code",
   "execution_count": null,
   "source": [
    "plot_maps(norm_flat_image(grads),norm_flat_image(input_img) )\r\n"
   ],
   "outputs": [],
   "metadata": {}
  },
  {
   "cell_type": "code",
   "execution_count": null,
   "source": [
    "import napari\r\n",
    "viewer = napari.view_image(norm_flat_image(grads))\r\n",
    "viewer.add_image(norm_flat_image(input_img))"
   ],
   "outputs": [],
   "metadata": {}
  },
  {
   "cell_type": "code",
   "execution_count": null,
   "source": [],
   "outputs": [],
   "metadata": {}
  }
 ],
 "metadata": {
  "language_info": {
   "name": "python",
   "version": "3.9.9",
   "mimetype": "text/x-python",
   "codemirror_mode": {
    "name": "ipython",
    "version": 3
   },
   "pygments_lexer": "ipython3",
   "nbconvert_exporter": "python",
   "file_extension": ".py"
  },
  "orig_nbformat": 4,
  "kernelspec": {
   "name": "python3",
   "display_name": "Python 3.9.2 64-bit ('venv': venv)"
  },
  "interpreter": {
   "hash": "45ff46fca10addfa75fca734b4994d002a1f36f7c35cb451d1a02ba85a2ca87b"
  }
 },
 "nbformat": 4,
 "nbformat_minor": 2
}