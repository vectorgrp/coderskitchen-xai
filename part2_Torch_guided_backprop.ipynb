{
 "cells": [
  {
   "cell_type": "markdown",
   "metadata": {},
   "source": [
    "Copyright 2021 Vector Informatik GmbH\n",
    "SPDX-License-Identifier: MIT \n",
    "Contact: khanlian.chung@vector.com"
   ]
  },
  {
   "cell_type": "markdown",
   "metadata": {},
   "source": [
    "# Notebook for exploring and playing with saliency maps and backprop with Torch"
   ]
  },
  {
   "cell_type": "code",
   "execution_count": null,
   "metadata": {},
   "outputs": [],
   "source": [
    "import torch\n",
    "import torchvision\n",
    "from PIL import Image\n",
    "import numpy as np\n",
    "import matplotlib.pyplot as plt"
   ]
  },
  {
   "cell_type": "markdown",
   "metadata": {},
   "source": [
    "## A few helper functions to load an arbitrary image and generate a simple grey-value heatmap\n",
    "Some helper function to pre and post processing the inputs."
   ]
  },
  {
   "cell_type": "code",
   "execution_count": null,
   "metadata": {},
   "outputs": [],
   "source": [
    "def prep_input(path):\n",
    "    image =Image.open(path)\n",
    "\n",
    "    preprocess = torchvision.transforms.Compose([\n",
    "    torchvision.transforms.Resize(256),\n",
    "    torchvision.transforms.CenterCrop(224),\n",
    "    torchvision.transforms.ToTensor(),\n",
    "    torchvision.transforms.Normalize(mean=[0.485, 0.456, 0.406], std=[0.229, 0.224, 0.225]),])\n",
    "\n",
    "    image = preprocess(image)\n",
    "    image.unsqueeze_(0)\n",
    "\n",
    "    return image\n",
    "\n",
    "def decode_output(output):\n",
    "    # taken and modified from https://pytorch.org/hub/pytorch_vision_alexnet/\n",
    "    import urllib.request\n",
    "    url = \"https://raw.githubusercontent.com/pytorch/hub/master/imagenet_classes.txt\"\n",
    "    urllib.request.urlretrieve(url, \"imagenet_classes.txt\")\n",
    "    # Read the categories\n",
    "    probabilities = torch.nn.functional.softmax(output[0], dim=0)\n",
    "\n",
    "    with open(\"imagenet_classes.txt\", \"r\") as f:\n",
    "        categories = [s.strip() for s in f.readlines()]\n",
    "    # Show top categories per image\n",
    "    top5_prob, top5_catid = torch.topk(probabilities, 5)\n",
    "    for i in range(top5_prob.size(0)):\n",
    "        print(categories[top5_catid[i]], top5_prob[i].item())\n",
    "    return top5_catid[0]\n",
    "\n",
    "def prep_output(img_tensor):\n",
    "    invTrans = torchvision.transforms.Compose([ torchvision.transforms.Normalize(mean = [ 0., 0., 0. ],\n",
    "                                                    std = [ 1/0.229, 1/0.224, 1/0.225 ]),\n",
    "                            torchvision.transforms.Normalize(mean = [ -0.485, -0.456, -0.406 ],\n",
    "                                                    std = [ 1., 1., 1. ]),\n",
    "                            ])\n",
    "    out = invTrans(img_tensor)[0]\n",
    "    out = out.detach().numpy().transpose(1, 2, 0)\n",
    "\n",
    "\n",
    "    return out\n",
    "\n",
    "def get_lion():\n",
    "    # Wikipedia lion image https://en.wikipedia.org/wiki/Lion#/media/File:Lion_waiting_in_Namibia.jpg\n",
    "    # License: CC BY 2.0 https://creativecommons.org/licenses/by/2.0/deed.en\n",
    "    import urllib.request\n",
    "    filename = 'lion.jpg'\n",
    "    img_url = r\"https://upload.wikimedia.org/wikipedia/commons/7/73/Lion_waiting_in_Namibia.jpg\"\n",
    "    urllib.request.urlretrieve(img_url, filename)\n",
    "\n",
    "def plot_maps(img1, img2,vmin=0.3,vmax=0.7, mix_val=2):\n",
    "    f = plt.figure(figsize=(45,15))\n",
    "    plt.subplot(1,3,1)\n",
    "    plt.imshow(img1,vmin=vmin, vmax=vmax, cmap=\"gray\")\n",
    "    plt.axis(\"off\")\n",
    "    plt.subplot(1,3,2)\n",
    "    plt.imshow(img2, cmap = \"gray\")\n",
    "    plt.axis(\"off\")\n",
    "    plt.subplot(1,3,3)\n",
    "    plt.imshow(img1*mix_val+img2/mix_val, cmap = \"gray\" )\n",
    "    plt.axis(\"off\")\n",
    "    plt.show()\n",
    "\n",
    "def norm_flat_image(img):\n",
    "    grads_norm = prep_output(img)\n",
    "    grads_norm = grads_norm[:,:,0]+ grads_norm[:,:,1]+ grads_norm[:,:,2]\n",
    "\n",
    "    grads_norm = (grads_norm - np.min(grads_norm))/ (np.max(grads_norm)- np.min(grads_norm))\n",
    "    return grads_norm\n"
   ]
  },
  {
   "cell_type": "markdown",
   "metadata": {},
   "source": [
    "This example is built upon a DenseNet201. But you can interchange it any other network. Simpliest way would be: change torchvision.models.densenet201(True) to another network such as torchvision.models.resnet18(True). Have a look at https://pytorch.org/vision/stable/models.html\n",
    "If you are interested in the imagenet data, have a look here: https://knowyourdata-tfds.withgoogle.com/#tab=STATS&dataset=imagenet2012"
   ]
  },
  {
   "cell_type": "code",
   "execution_count": null,
   "metadata": {},
   "outputs": [],
   "source": [
    "test_model = torchvision.models.densenet201(True)\n",
    "test_model.eval()\n",
    "get_lion()\n",
    "input_img = prep_input(\"lion.jpg\")"
   ]
  },
  {
   "cell_type": "markdown",
   "metadata": {},
   "source": [
    "## Guided Backprop:\n",
    "First, we have to implement a hook, so we can modify the gradients"
   ]
  },
  {
   "cell_type": "code",
   "execution_count": null,
   "metadata": {},
   "outputs": [],
   "source": [
    "def relu_hook_function(module, grad_in, grad_out):\n",
    "    if isinstance(module, torch.nn.ReLU):\n",
    "        return (torch.clamp(grad_in[0], min=0.),)"
   ]
  },
  {
   "cell_type": "markdown",
   "metadata": {},
   "source": [
    "Afterwards, we add the hooks to the model."
   ]
  },
  {
   "cell_type": "code",
   "execution_count": null,
   "metadata": {},
   "outputs": [],
   "source": [
    "for i, module in enumerate(test_model.modules()):\n",
    "    if isinstance(module, torch.nn.ReLU):\n",
    "        print(test_model.named_modules())\n",
    "        module.register_backward_hook(relu_hook_function)"
   ]
  },
  {
   "cell_type": "markdown",
   "metadata": {},
   "source": [
    "After setting everything up, we have to explicitly instruct PyTorch to calculate and keep the gradients for the input image input_img. This is managed by the .requires_grad flag. "
   ]
  },
  {
   "cell_type": "code",
   "execution_count": null,
   "metadata": {},
   "outputs": [],
   "source": [
    "input_img.requires_grad = True\n",
    "# forward/inference\n",
    "out = test_model(input_img)\n",
    "best_id = decode_output(out)\n",
    "# backprop\n",
    "out[0, best_id].backward()\n",
    "grads = input_img.grad\n"
   ]
  },
  {
   "cell_type": "code",
   "execution_count": null,
   "metadata": {},
   "outputs": [],
   "source": [
    "plot_maps(norm_flat_image(grads),norm_flat_image(input_img) )\n"
   ]
  },
  {
   "cell_type": "code",
   "execution_count": null,
   "metadata": {},
   "outputs": [],
   "source": [
    "import napari\n",
    "viewer = napari.view_image(norm_flat_image(grads))\n",
    "viewer.add_image(norm_flat_image(input_img))"
   ]
  },
  {
   "cell_type": "code",
   "execution_count": null,
   "metadata": {},
   "outputs": [],
   "source": []
  }
 ],
 "metadata": {
  "interpreter": {
   "hash": "45ff46fca10addfa75fca734b4994d002a1f36f7c35cb451d1a02ba85a2ca87b"
  },
  "kernelspec": {
   "display_name": "Python 3.9.9 64-bit ('venv': venv)",
   "name": "python3"
  },
  "language_info": {
   "codemirror_mode": {
    "name": "ipython",
    "version": 3
   },
   "file_extension": ".py",
   "mimetype": "text/x-python",
   "name": "python",
   "nbconvert_exporter": "python",
   "pygments_lexer": "ipython3",
   "version": "3.9.9"
  },
  "orig_nbformat": 4
 },
 "nbformat": 4,
 "nbformat_minor": 2
}
